{
 "cells": [
  {
   "cell_type": "code",
   "execution_count": null,
   "id": "361398af",
   "metadata": {},
   "outputs": [],
   "source": [
    "# Basic Imports\n",
    "import pandas as pd\n",
    "import numpy as np\n",
    "import matplotlib.pyplot as plt\n",
    "pd.read"
   ]
  },
  {
   "cell_type": "code",
   "execution_count": 6,
   "id": "4bf56ca4",
   "metadata": {},
   "outputs": [
    {
     "name": "stdout",
     "output_type": "stream",
     "text": [
      "Index(['Tickers_Unnamed: 1_level_1', 'ISPR_Date', 'ISPR_PX_LAST',\n",
      "       'ISPR_PX_VOLUME', 'ISPR_DVD_SH_LAST', 'ISPR_PX_BID', 'ISPR_PX_ASK',\n",
      "       'ISPR_OPEN_INT_TOTAL_PUT', 'ISPR_OPEN_INT_TOTAL_CALL', 'QUBT_Date'],\n",
      "      dtype='object')\n",
      "(1493, 109)\n"
     ]
    }
   ],
   "source": [
    "# Now load in the Data that Ilyas got for us\n",
    "df = pd.read_excel('/Users/joshuachis/Documents/Berkeley MFE/Projects/JPMorgan Industry Project/JPMShortInterest_UCBMFE/data/BloombergJPM_noformula.xlsx', header=[1, 2], index_col=0)\n",
    "\n",
    "# Flatten the multi-level column names\n",
    "# This will combine the ticker and column name with an underscore\n",
    "df.columns = ['_'.join(col).strip() if col[0] != '' else col[1] \n",
    "              for col in df.columns.values]\n",
    "\n",
    "# Clean up the ticker names (remove \"US Equity\" suffix if desired)\n",
    "df.columns = [col.replace(' US Equity_', '_').replace(' Index_', '_') \n",
    "              for col in df.columns]\n",
    "\n",
    "# Alternative: If you want shorter ticker symbols\n",
    "# df.columns = [col.split()[0] + '_' + col.split('_')[-1] if '_' in col else col \n",
    "#               for col in df.columns]\n",
    "\n",
    "print(df.columns[:10])  # Show first 10 column names\n",
    "print(df.shape)"
   ]
  },
  {
   "cell_type": "code",
   "execution_count": null,
   "id": "8150dc96",
   "metadata": {},
   "outputs": [],
   "source": [
    "df"
   ]
  },
  {
   "cell_type": "code",
   "execution_count": null,
   "id": "c281845d",
   "metadata": {},
   "outputs": [],
   "source": [
    "# This data set is too messy to be useful. I will try to get a cleaner one from alpha vantage or another source."
   ]
  }
 ],
 "metadata": {
  "kernelspec": {
   "display_name": "JPM",
   "language": "python",
   "name": "python3"
  },
  "language_info": {
   "codemirror_mode": {
    "name": "ipython",
    "version": 3
   },
   "file_extension": ".py",
   "mimetype": "text/x-python",
   "name": "python",
   "nbconvert_exporter": "python",
   "pygments_lexer": "ipython3",
   "version": "3.12.11"
  }
 },
 "nbformat": 4,
 "nbformat_minor": 5
}
